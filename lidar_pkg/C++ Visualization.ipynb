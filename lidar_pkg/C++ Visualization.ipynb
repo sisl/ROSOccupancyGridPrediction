{
 "cells": [
  {
   "cell_type": "code",
   "execution_count": 1,
   "metadata": {},
   "outputs": [],
   "source": [
    "%matplotlib inline\n",
    "import os\n",
    "from six.moves import cPickle\n",
    "import matplotlib\n",
    "matplotlib.use('Agg')\n",
    "import matplotlib.pyplot as plt\n",
    "import matplotlib.gridspec as gridspec\n",
    "import numpy as np"
   ]
  },
  {
   "cell_type": "code",
   "execution_count": null,
   "metadata": {},
   "outputs": [],
   "source": [
    "input_tensor = np.zeros((1,128,128))\n",
    "data = np.loadtxt(\"data/measured_occ.txt\")\n",
    "data = np.reshape(data,(128,128))\n",
    "    \n",
    "nt=1\n",
    "aspect_ratio = float(data.shape[0]) / data.shape[1]\n",
    "plt.figure(figsize = (nt, 2.*aspect_ratio))\n",
    "gs = gridspec.GridSpec(2, nt)\n",
    "gs.update(wspace=0., hspace=0.)\n",
    "#plot_save_dir = os.path.join(RESULTS_SAVE_DIR_OCC, 'plots_test/')\n",
    "#if not os.path.exists(plot_save_dir): os.mkdir(plot_save_dir)\n",
    "#n_plot = 20\n",
    "#plot_idx = np.random.permutation(X_test.shape[0])[:n_plot]\n",
    "i = 0\n",
    "for t in range(nt):\n",
    "    plt.subplot(gs[t])\n",
    "    plt.imshow(data)\n",
    "    plt.tick_params(axis='both', which='both', bottom='off', top='off', left='off', right='off', labelbottom='off', labelleft='off')\n",
    "    if t==0: plt.ylabel('Actual', fontsize=10)\n",
    "    #plt.show()\n",
    "\n",
    "plt.savefig('comparison_c++_4' + '.png')\n",
    "#plt.clf()\n"
   ]
  },
  {
   "cell_type": "code",
   "execution_count": null,
   "metadata": {},
   "outputs": [],
   "source": [
    "input_tensor = np.zeros((1,128,128))\n",
    "data = np.loadtxt(\"data/measured_free.txt\")\n",
    "data = np.reshape(data,(128,128))\n",
    "    \n",
    "nt=1\n",
    "aspect_ratio = float(data.shape[0]) / data.shape[1]\n",
    "plt.figure(figsize = (nt, 2.*aspect_ratio))\n",
    "gs = gridspec.GridSpec(2, nt)\n",
    "gs.update(wspace=0., hspace=0.)\n",
    "#plot_save_dir = os.path.join(RESULTS_SAVE_DIR_OCC, 'plots_test/')\n",
    "#if not os.path.exists(plot_save_dir): os.mkdir(plot_save_dir)\n",
    "#n_plot = 20\n",
    "#plot_idx = np.random.permutation(X_test.shape[0])[:n_plot]\n",
    "i = 0\n",
    "for t in range(nt):\n",
    "    plt.subplot(gs[t])\n",
    "    plt.imshow(data)\n",
    "    plt.tick_params(axis='both', which='both', bottom='off', top='off', left='off', right='off', labelbottom='off', labelleft='off')\n",
    "    if t==0: plt.ylabel('Actual', fontsize=10)\n",
    "    #plt.show()\n",
    "\n",
    "plt.savefig('comparison_c++_4' + '.png')\n",
    "#plt.clf()"
   ]
  },
  {
   "cell_type": "code",
   "execution_count": null,
   "metadata": {},
   "outputs": [],
   "source": []
  }
 ],
 "metadata": {
  "kernelspec": {
   "display_name": "Python 3",
   "language": "python",
   "name": "python3"
  },
  "language_info": {
   "codemirror_mode": {
    "name": "ipython",
    "version": 3
   },
   "file_extension": ".py",
   "mimetype": "text/x-python",
   "name": "python",
   "nbconvert_exporter": "python",
   "pygments_lexer": "ipython3",
   "version": "3.6.8"
  }
 },
 "nbformat": 4,
 "nbformat_minor": 2
}
